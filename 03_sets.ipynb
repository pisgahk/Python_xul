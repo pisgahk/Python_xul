{
 "cells": [
  {
   "cell_type": "markdown",
   "metadata": {},
   "source": [
    "# Sets\n",
    "Sets are used to store multiple items in a single variable. It is unordered, unchangeable, unindexed."
   ]
  },
  {
   "cell_type": "code",
   "execution_count": 1,
   "metadata": {},
   "outputs": [
    {
     "name": "stdout",
     "output_type": "stream",
     "text": [
      "{True, 2, 'apple', 'cherry', 'banana'}\n"
     ]
    }
   ],
   "source": [
    "this_set = {\"apple\", \"banana\", \"cherry\", True, 1, 2}\n",
    "print(this_set)"
   ]
  },
  {
   "cell_type": "code",
   "execution_count": 2,
   "metadata": {},
   "outputs": [
    {
     "name": "stdout",
     "output_type": "stream",
     "text": [
      "{'apple', 'cherry', 'banana', 'orange'}\n"
     ]
    }
   ],
   "source": [
    "#methods of sets\n",
    "this_set = {\"apple\", \"banana\", \"cherry\"}\n",
    "this_set.add(\"orange\")\n",
    "print(this_set)"
   ]
  },
  {
   "cell_type": "code",
   "execution_count": 3,
   "metadata": {},
   "outputs": [
    {
     "name": "stdout",
     "output_type": "stream",
     "text": [
      "{1, 2, 3, 4, 5, 6}\n"
     ]
    }
   ],
   "source": [
    "set_1 = {1,3,5}\n",
    "set_2 = {2,4,6}\n",
    "set_1.update(set_2) #.update() method adds a set to another\n",
    "print(set_1)"
   ]
  },
  {
   "cell_type": "code",
   "execution_count": 4,
   "metadata": {},
   "outputs": [
    {
     "name": "stdout",
     "output_type": "stream",
     "text": [
      "{1, 2, 3, 'orange', 'Kiwi'}\n"
     ]
    }
   ],
   "source": [
    "set_1 = {1,2,3}\n",
    "list_1 = [\"Kiwi\", \"orange\"]\n",
    "set_1.update(list_1)   #adding list to set.\n",
    "print(set_1)"
   ]
  },
  {
   "cell_type": "code",
   "execution_count": 5,
   "metadata": {},
   "outputs": [
    {
     "name": "stdout",
     "output_type": "stream",
     "text": [
      "{'apple', 'cherry'}\n",
      "set()\n"
     ]
    }
   ],
   "source": [
    "this_set = {\"apple\", \"banana\", \"cherry\"}\n",
    "this_set.remove(\"banana\")  #.remove() removes an element from a set.\n",
    "print(this_set)\n",
    "#If the element is absent in the set, the .remove() method will return an error while the .discard() method will compile regardless.\n",
    "\n",
    "this_set_2 = {\"apple\", \"banana\", \"cherry\"}\n",
    "this_set_2.clear()   #removes all the elements in the set.\n",
    "print(this_set_2)"
   ]
  }
 ],
 "metadata": {
  "kernelspec": {
   "display_name": ".venv",
   "language": "python",
   "name": "python3"
  },
  "language_info": {
   "codemirror_mode": {
    "name": "ipython",
    "version": 3
   },
   "file_extension": ".py",
   "mimetype": "text/x-python",
   "name": "python",
   "nbconvert_exporter": "python",
   "pygments_lexer": "ipython3",
   "version": "3.12.2"
  }
 },
 "nbformat": 4,
 "nbformat_minor": 2
}
