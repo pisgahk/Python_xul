{
 "cells": [
  {
   "cell_type": "markdown",
   "metadata": {},
   "source": [
    "# Exception Handling\n",
    "In python, errors can broadly be categorised into two types:\n",
    "1. Syntax Errors.\n",
    "2. Exceptions.\n",
    "\n",
    "An exception is an unexpected event which occurs during the execution of a program.\n",
    "It is also known as run-time error. When that error occurs, Python generates an exception during the execution and that can be handled which prevents your program from interrupting.\n",
    "\n",
    "##### Syntax Errors.\n",
    "Syntax errors are also known as parsing errors, occur when the Python parser encounters an error in the syntax of the code. These errors are detected during the parsing of the code. Syntax errors prevent the program from running and must be fixed before the code can be executed.\n",
    "```python\n",
    "#Syntax error example.\n",
    "print(\"Hello, World\" #Missing closing parenthesis.\n",
    "```\n",
    "\n",
    "##### Exceptions.\n",
    "Exceptions, unlike syntax errors occur during the execution of a program. These errors disrupt the normal flow of the program and can be handled using the exception handling mechanisms like `try`, `except`, `finally`, `raise`.\n",
    "```text\n",
    "try -> Run this code. This block will test the expected error to occur.<br>\n",
    "except -> Execute this code when there is an exception. Here you can handle the error.<br>\n",
    "else -> No Exceptions? Run this code. If there is no exeption,  this block will be executed.<br>\n",
    "finally -> Always run this code. Finally block always gets executed whether exception is generated or not.\n",
    "```"
   ]
  },
  {
   "cell_type": "code",
   "execution_count": 1,
   "metadata": {},
   "outputs": [
    {
     "name": "stdout",
     "output_type": "stream",
     "text": [
      "Error: Denominator cannot be 0.\n"
     ]
    }
   ],
   "source": [
    "#Exception handling using try..except\n",
    "\n",
    "try:\n",
    "    numerator = 10\n",
    "    denominator = 0\n",
    "    result = numerator/denominator\n",
    "    print(result)\n",
    "\n",
    "except:\n",
    "    print(\"Error: Denominator cannot be 0.\")"
   ]
  },
  {
   "cell_type": "markdown",
   "metadata": {},
   "source": [
    "### _Catching Specific Exceptions._"
   ]
  },
  {
   "cell_type": "code",
   "execution_count": 4,
   "metadata": {},
   "outputs": [
    {
     "name": "stdout",
     "output_type": "stream",
     "text": [
      "Index out of bounds.\n"
     ]
    }
   ],
   "source": [
    "try:\n",
    "    even_numbers = [2,4,5,8]\n",
    "    print(even_numbers[5])\n",
    "\n",
    "except ZeroDivisionError:\n",
    "    print(\"Denominator cannot be Zero.\")\n",
    "\n",
    "except IndexError:\n",
    "    print(\"Index out of bounds.\") "
   ]
  },
  {
   "cell_type": "code",
   "execution_count": 9,
   "metadata": {},
   "outputs": [
    {
     "name": "stdout",
     "output_type": "stream",
     "text": [
      "0.125\n"
     ]
    }
   ],
   "source": [
    "#Python try with else clause.\n",
    "#program to print rhe reciprocal of even numbers\n",
    "\n",
    "try:\n",
    "    num = int(input(\"Enter a number: \"))\n",
    "    assert num % 2 == 0\n",
    "\n",
    "except:\n",
    "    print(\"Not an even number.\")\n",
    "\n",
    "else:\n",
    "    reciprocal = 1/num\n",
    "    print(reciprocal)"
   ]
  },
  {
   "cell_type": "code",
   "execution_count": 12,
   "metadata": {},
   "outputs": [
    {
     "name": "stdout",
     "output_type": "stream",
     "text": [
      "2.0\n",
      "This is the finally block.\n"
     ]
    }
   ],
   "source": [
    "#In python, the finally block is always executed no matter whether there is an exception or not.\n",
    "#The finally block is optional and for each `try` block, there can only be one `finally` block.\n",
    "\n",
    "try:\n",
    "    numerator = 12\n",
    "    denominator = 6\n",
    "\n",
    "    result = numerator/denominator\n",
    "    print(result)\n",
    "\n",
    "except:\n",
    "    print(\"Error: Denominator cannot be Zero.\")\n",
    "\n",
    "finally:\n",
    "    print(\"This is the finally block.\")"
   ]
  }
 ],
 "metadata": {
  "kernelspec": {
   "display_name": "Python 3",
   "language": "python",
   "name": "python3"
  },
  "language_info": {
   "codemirror_mode": {
    "name": "ipython",
    "version": 3
   },
   "file_extension": ".py",
   "mimetype": "text/x-python",
   "name": "python",
   "nbconvert_exporter": "python",
   "pygments_lexer": "ipython3",
   "version": "3.10.12"
  }
 },
 "nbformat": 4,
 "nbformat_minor": 2
}
