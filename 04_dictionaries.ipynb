{
 "cells": [
  {
   "cell_type": "markdown",
   "metadata": {},
   "source": [
    "# Dictionary\n",
    "Dictionaries are used to store data values in key : value pairs. A dictionary is a collection which is ordered, changeable and does not allow duplicates.\n",
    "\n",
    "Dictionaries are written in curly brackets and have **keys** and **values**."
   ]
  },
  {
   "cell_type": "code",
   "execution_count": 1,
   "metadata": {},
   "outputs": [
    {
     "name": "stdout",
     "output_type": "stream",
     "text": [
      "{'Name': 'LNCT', 'Address': 'Bhopal', 'Year': 2024}\n",
      "Bhopal\n"
     ]
    }
   ],
   "source": [
    "dict_1 = {\n",
    "    \"Name\": \"LNCT\",\n",
    "    \"Address\": \"Bhopal\",\n",
    "    \"Year\": 2024\n",
    "} #Illustration of the keys and values.\n",
    "print(dict_1)\n",
    "print(dict_1[\"Address\"])"
   ]
  },
  {
   "cell_type": "code",
   "execution_count": 2,
   "metadata": {},
   "outputs": [
    {
     "name": "stdout",
     "output_type": "stream",
     "text": [
      "{}\n"
     ]
    }
   ],
   "source": [
    "empty_dictionary = {} #Illustration if an empty playlist.\n",
    "print(empty_dictionary)"
   ]
  },
  {
   "cell_type": "markdown",
   "metadata": {},
   "source": [
    "### _Dictionary with Integer Keys_"
   ]
  },
  {
   "cell_type": "code",
   "execution_count": 3,
   "metadata": {},
   "outputs": [
    {
     "name": "stdout",
     "output_type": "stream",
     "text": [
      "Ball\n",
      "{1: 'Apple', 2: 'bat', 'numbers': [2, 4, 7]}\n"
     ]
    }
   ],
   "source": [
    "dict_2 = {\n",
    "    1 : \"Apple\",\n",
    "    2 : \"Ball\",\n",
    "    \"numbers\" : [2,4,7]\n",
    "} #A dictionary can have mixed keys and values.\n",
    "print(dict_2[2])\n",
    "\n",
    "dict_2[2] = \"bat\" #All we are doing here is updating the items of a dictionary.\n",
    "print(dict_2)"
   ]
  },
  {
   "cell_type": "code",
   "execution_count": 4,
   "metadata": {},
   "outputs": [
    {
     "name": "stdout",
     "output_type": "stream",
     "text": [
      "[3, 4, 7]\n",
      "{1: 'Apple', 2: [3, 4, 7], 3: 'Dog'}\n",
      "{1: 'Apple', 2: [3, 4, 7]}\n",
      "{1: 'Apple'}\n"
     ]
    }
   ],
   "source": [
    "dict_2 = {\n",
    "    1 : \"Apple\",\n",
    "    2 : [3, 4, 7]\n",
    "}\n",
    "print(dict_2[2])\n",
    "\n",
    "dict_2[3] = \"Dog\" #Adding an item to an existing dictionary.\n",
    "print(dict_2)\n",
    "\n",
    "dict_2.pop(3) #.pop() removes an item from the dictionary.\n",
    "print(dict_2)\n",
    "\n",
    "dict_2.popitem() #.popitem() removes an item from the dictionary.\n",
    "print(dict_2)"
   ]
  },
  {
   "cell_type": "code",
   "execution_count": 5,
   "metadata": {},
   "outputs": [
    {
     "name": "stdout",
     "output_type": "stream",
     "text": [
      "{}\n"
     ]
    }
   ],
   "source": [
    "numbers = {1: \"one\", 2: \"two\"} #dictionary\n",
    "numbers.clear() # .clear() method removes all the items from the dictionary.\n",
    "print(numbers)"
   ]
  },
  {
   "cell_type": "markdown",
   "metadata": {},
   "source": [
    "### _Copying A dictionary_"
   ]
  },
  {
   "cell_type": "code",
   "execution_count": 6,
   "metadata": {},
   "outputs": [
    {
     "name": "stdout",
     "output_type": "stream",
     "text": [
      "Original Marks: {'Physics': 67, 'Maths': 87}\n",
      "Copied Marks: {'Physics': 67, 'Maths': 87}\n"
     ]
    }
   ],
   "source": [
    "marks_1 = {\n",
    "    'Physics' : 67,\n",
    "    'Maths' : 87\n",
    "}\n",
    "marks_copy = marks_1.copy()# just know .copy() method. Bas.\n",
    "\n",
    "print('Original Marks:', marks_1)\n",
    "print('Copied Marks:', marks_copy)"
   ]
  },
  {
   "cell_type": "code",
   "execution_count": 7,
   "metadata": {},
   "outputs": [
    {
     "name": "stdout",
     "output_type": "stream",
     "text": [
      "67\n"
     ]
    }
   ],
   "source": [
    "marks = {\n",
    "    'Physics': 67, \n",
    "    'Maths': 87,\n",
    "    'History': 75\n",
    "}\n",
    "result = marks.get('Physics') # .get() method gets the value of the key in parameters.\n",
    "print(result)"
   ]
  },
  {
   "cell_type": "code",
   "execution_count": 8,
   "metadata": {},
   "outputs": [
    {
     "name": "stdout",
     "output_type": "stream",
     "text": [
      "dict_keys([1, 2, 3])\n"
     ]
    }
   ],
   "source": [
    "numbers = {\n",
    "    1: 'one',\n",
    "    2: 'two',\n",
    "    3: 'three'\n",
    "}\n",
    "\n",
    "dictionaryKeys = numbers.keys() # .keys() method extracts the keys of the dictionary\n",
    "print(dictionaryKeys)"
   ]
  },
  {
   "cell_type": "code",
   "execution_count": 9,
   "metadata": {},
   "outputs": [
    {
     "name": "stdout",
     "output_type": "stream",
     "text": [
      "dict_values([67, 87])\n"
     ]
    }
   ],
   "source": [
    "marks = {\n",
    "    \"Physics\":67,\n",
    "    \"Maths\":87\n",
    "}\n",
    "print(marks.values()) # .values() method just extracts the values of the dictionary."
   ]
  },
  {
   "cell_type": "code",
   "execution_count": 10,
   "metadata": {},
   "outputs": [
    {
     "name": "stdout",
     "output_type": "stream",
     "text": [
      "{'brand': 'Ford', 'year': 1964}\n"
     ]
    }
   ],
   "source": [
    "thisdict = {\n",
    "    \"brand\": \"Ford\",\n",
    "    \"model\": \"Mustang\",\n",
    "    \"year\": 1964\n",
    "}\n",
    "del thisdict[\"model\"] #'del' function 'deletes' the whole key:value pair.\n",
    "print(thisdict)"
   ]
  },
  {
   "cell_type": "code",
   "execution_count": 11,
   "metadata": {},
   "outputs": [
    {
     "name": "stdout",
     "output_type": "stream",
     "text": [
      "{'brand': 'Ford', 'year': 1964}\n"
     ]
    }
   ],
   "source": [
    "car = {\n",
    "    \"brand\": \"Ford\",\n",
    "    \"model\": \"Mustang\",\n",
    "    \"year\": 1964\n",
    "}\n",
    "car.pop(\"model\") # .pop() method is comparative to the 'del' function above.\n",
    "print(car)"
   ]
  },
  {
   "cell_type": "code",
   "execution_count": 12,
   "metadata": {},
   "outputs": [
    {
     "name": "stdout",
     "output_type": "stream",
     "text": [
      "{'brand': 'Ford', 'model': 'Mustang'}\n"
     ]
    }
   ],
   "source": [
    "car = {\n",
    "    \"brand\": \"Ford\",\n",
    "    \"model\": \"Mustang\",\n",
    "    \"year\": 1964\n",
    "}\n",
    "car.popitem() # .popitem() pops out the last key:value pair in the dictionary.\n",
    "print(car)"
   ]
  },
  {
   "cell_type": "code",
   "execution_count": 13,
   "metadata": {},
   "outputs": [
    {
     "name": "stdout",
     "output_type": "stream",
     "text": [
      "{'brand': 'Ford', 'model': 'Mustang', 'year': 1964, 'color': 'White'}\n"
     ]
    }
   ],
   "source": [
    "car = {\n",
    "    \"brand\": \"Ford\",\n",
    "    \"model\": \"Mustang\",\n",
    "    \"year\": 1964}\n",
    "car.update({\"color\": \"White\"})# .update() method justs adds a new key:value pair.\n",
    "print(car)"
   ]
  },
  {
   "cell_type": "markdown",
   "metadata": {},
   "source": [
    "### _Dictionary Comprehension_"
   ]
  },
  {
   "cell_type": "code",
   "execution_count": 14,
   "metadata": {},
   "outputs": [
    {
     "data": {
      "text/plain": [
       "(3140316899520, 3140316792000)"
      ]
     },
     "execution_count": 14,
     "metadata": {},
     "output_type": "execute_result"
    }
   ],
   "source": [
    "my_dict = {\n",
    "    \"Name\" : \"ABC\",\n",
    "    \"ID\" : 245,\n",
    "    \"D.O.B\" : 1997\n",
    "}\n",
    "dict_2 = my_dict #creates a new reference of dictionary.\n",
    "id(my_dict), id(dict_2)\n",
    "\n",
    "dict_3 = my_dict.copy()\n",
    "id(my_dict), id(dict_3)"
   ]
  },
  {
   "cell_type": "code",
   "execution_count": 15,
   "metadata": {},
   "outputs": [
    {
     "data": {
      "text/plain": [
       "False"
      ]
     },
     "execution_count": 15,
     "metadata": {},
     "output_type": "execute_result"
    }
   ],
   "source": [
    "my_dict = {\"Name\" : \"ABC\", \"ID\" : 245, \"D.O.B\" : 1997}\n",
    "\"Name\" in my_dict #tests if a key is in the dictionary.\n",
    "\"ABC\" in my_dict #membership test does not work on values."
   ]
  },
  {
   "cell_type": "code",
   "execution_count": 16,
   "metadata": {},
   "outputs": [
    {
     "data": {
      "text/plain": [
       "{0: 0, 1: 2, 2: 4, 3: 6, 4: 8, 5: 10, 6: 12, 7: 14, 8: 16, 9: 18}"
      ]
     },
     "execution_count": 16,
     "metadata": {},
     "output_type": "execute_result"
    }
   ],
   "source": [
    "double = {i : i*2 for i in range(10)}\n",
    "double\n"
   ]
  },
  {
   "cell_type": "code",
   "execution_count": 17,
   "metadata": {},
   "outputs": [
    {
     "data": {
      "text/plain": [
       "{0: 0, 1: 1, 2: 4, 3: 9, 4: 16, 5: 25, 6: 36, 7: 49, 8: 64, 9: 81}"
      ]
     },
     "execution_count": 17,
     "metadata": {},
     "output_type": "execute_result"
    }
   ],
   "source": [
    "powers = {i : i**2 for i in range(10)}\n",
    "powers"
   ]
  },
  {
   "cell_type": "markdown",
   "metadata": {},
   "source": [
    "# Nested-If"
   ]
  },
  {
   "cell_type": "code",
   "execution_count": 18,
   "metadata": {},
   "outputs": [
    {
     "name": "stdout",
     "output_type": "stream",
     "text": [
      "Also got distinction\n"
     ]
    }
   ],
   "source": [
    "marks = 88\n",
    "if marks > 70:\n",
    "    if marks > 75:\n",
    "        print(\"Also got distinction\")\n",
    "    else:\n",
    "        print(\"A grade but not a distinction.\")\n",
    "else:\n",
    "    print(\"B grade\")"
   ]
  },
  {
   "cell_type": "code",
   "execution_count": 19,
   "metadata": {},
   "outputs": [
    {
     "ename": "ValueError",
     "evalue": "invalid literal for int() with base 10: ''",
     "output_type": "error",
     "traceback": [
      "\u001b[1;31m---------------------------------------------------------------------------\u001b[0m",
      "\u001b[1;31mValueError\u001b[0m                                Traceback (most recent call last)",
      "Cell \u001b[1;32mIn[19], line 34\u001b[0m\n\u001b[0;32m     31\u001b[0m         \u001b[38;5;28;01melse\u001b[39;00m:\n\u001b[0;32m     32\u001b[0m             \u001b[38;5;28mprint\u001b[39m(\u001b[38;5;124m\"\u001b[39m\u001b[38;5;124mNull value\u001b[39m\u001b[38;5;124m\"\u001b[39m)\n\u001b[1;32m---> 34\u001b[0m \u001b[43mmain\u001b[49m\u001b[43m(\u001b[49m\u001b[43m)\u001b[49m\n",
      "Cell \u001b[1;32mIn[19], line 11\u001b[0m, in \u001b[0;36mmain\u001b[1;34m()\u001b[0m\n\u001b[0;32m     10\u001b[0m \u001b[38;5;28;01mdef\u001b[39;00m \u001b[38;5;21mmain\u001b[39m():\n\u001b[1;32m---> 11\u001b[0m     val_a \u001b[38;5;241m=\u001b[39m \u001b[38;5;28;43mint\u001b[39;49m\u001b[43m(\u001b[49m\u001b[38;5;28;43minput\u001b[39;49m\u001b[43m(\u001b[49m\u001b[38;5;124;43m\"\u001b[39;49m\u001b[38;5;124;43mValue of a: \u001b[39;49m\u001b[38;5;124;43m\"\u001b[39;49m\u001b[43m)\u001b[49m\u001b[43m)\u001b[49m\n\u001b[0;32m     12\u001b[0m     val_b \u001b[38;5;241m=\u001b[39m \u001b[38;5;28mint\u001b[39m(\u001b[38;5;28minput\u001b[39m(\u001b[38;5;124m\"\u001b[39m\u001b[38;5;124mValue of b: \u001b[39m\u001b[38;5;124m\"\u001b[39m))\n\u001b[0;32m     13\u001b[0m     val_oper \u001b[38;5;241m=\u001b[39m \u001b[38;5;28minput\u001b[39m(\u001b[38;5;124m\"\u001b[39m\u001b[38;5;124mEnter operation(add, sub, mul, divi): \u001b[39m\u001b[38;5;124m\"\u001b[39m)\n",
      "\u001b[1;31mValueError\u001b[0m: invalid literal for int() with base 10: ''"
     ]
    }
   ],
   "source": [
    "def addition(a,b):\n",
    "    return a + b\n",
    "def subtraction(a,b):\n",
    "    return a - b\n",
    "def multiply(a,b):\n",
    "    return a * b\n",
    "def division(a,b):\n",
    "    return a / b\n",
    "\n",
    "def main():\n",
    "    val_a = int(input(\"Value of a: \"))\n",
    "    val_b = int(input(\"Value of b: \"))\n",
    "    val_oper = input(\"Enter operation(add, sub, mul, divi): \")\n",
    "\n",
    "    if val_oper == \"div\":\n",
    "        if val_b == 0:\n",
    "            print(\"Value is infinity.\")\n",
    "    else:\n",
    "        if val_oper == \"add\":\n",
    "            result = addition(val_a,val_b)\n",
    "            print(\"The addition of a and b is: \", result)\n",
    "        elif val_oper == \"sub\":\n",
    "            result = subtraction(val_a,val_b)\n",
    "            print(\"The subtraction of a and b is: \", result)\n",
    "        elif val_oper == \"mul\":\n",
    "            result = multiply(val_a,val_b)\n",
    "            print(\"The product of a and b is: \", result)\n",
    "        elif val_oper == \"div\":\n",
    "            result = division(val_a,val_b)\n",
    "            print(\"The division of a and b is: \", result)\n",
    "        else:\n",
    "            print(\"Null value\")\n",
    "\n",
    "main()"
   ]
  },
  {
   "cell_type": "code",
   "execution_count": null,
   "metadata": {},
   "outputs": [
    {
     "ename": "ValueError",
     "evalue": "invalid literal for int() with base 10: '3 8'",
     "output_type": "error",
     "traceback": [
      "\u001b[0;31m---------------------------------------------------------------------------\u001b[0m",
      "\u001b[0;31mValueError\u001b[0m                                Traceback (most recent call last)",
      "Cell \u001b[0;32mIn[11], line 13\u001b[0m\n\u001b[1;32m      8\u001b[0m     product \u001b[38;5;241m=\u001b[39m multiply(\u001b[38;5;241m*\u001b[39mnumbers)\n\u001b[1;32m      9\u001b[0m     \u001b[38;5;28mprint\u001b[39m(\u001b[38;5;124m\"\u001b[39m\u001b[38;5;124mProduct: \u001b[39m\u001b[38;5;124m\"\u001b[39m, product)\n\u001b[0;32m---> 13\u001b[0m \u001b[43mmain\u001b[49m\u001b[43m(\u001b[49m\u001b[43m)\u001b[49m\n",
      "Cell \u001b[0;32mIn[11], line 7\u001b[0m, in \u001b[0;36mmain\u001b[0;34m()\u001b[0m\n\u001b[1;32m      6\u001b[0m \u001b[38;5;28;01mdef\u001b[39;00m \u001b[38;5;21mmain\u001b[39m():\n\u001b[0;32m----> 7\u001b[0m     numbers \u001b[38;5;241m=\u001b[39m \u001b[38;5;28;43mint\u001b[39;49m\u001b[43m(\u001b[49m\u001b[38;5;28;43minput\u001b[39;49m\u001b[43m(\u001b[49m\u001b[38;5;124;43m\"\u001b[39;49m\u001b[38;5;124;43mEnter number separated by spaces: \u001b[39;49m\u001b[38;5;124;43m\"\u001b[39;49m\u001b[43m)\u001b[49m\u001b[43m)\u001b[49m\u001b[38;5;241m.\u001b[39msplit()\n\u001b[1;32m      8\u001b[0m     product \u001b[38;5;241m=\u001b[39m multiply(\u001b[38;5;241m*\u001b[39mnumbers)\n\u001b[1;32m      9\u001b[0m     \u001b[38;5;28mprint\u001b[39m(\u001b[38;5;124m\"\u001b[39m\u001b[38;5;124mProduct: \u001b[39m\u001b[38;5;124m\"\u001b[39m, product)\n",
      "\u001b[0;31mValueError\u001b[0m: invalid literal for int() with base 10: '3 8'"
     ]
    }
   ],
   "source": [
    "def multiply(*args):\n",
    "    result = 1\n",
    "    for num in args:\n",
    "        result *= num\n",
    "    return result\n",
    "def main():\n",
    "    numbers = int(input(\"Enter number separated by spaces: \")).split()\n",
    "    product = multiply(*numbers)\n",
    "    print(\"Product: \", product)\n",
    "\n",
    "\n",
    "\n",
    "main()"
   ]
  }
 ],
 "metadata": {
  "kernelspec": {
   "display_name": "Python 3",
   "language": "python",
   "name": "python3"
  },
  "language_info": {
   "codemirror_mode": {
    "name": "ipython",
    "version": 3
   },
   "file_extension": ".py",
   "mimetype": "text/x-python",
   "name": "python",
   "nbconvert_exporter": "python",
   "pygments_lexer": "ipython3",
   "version": "3.12.2"
  }
 },
 "nbformat": 4,
 "nbformat_minor": 2
}
