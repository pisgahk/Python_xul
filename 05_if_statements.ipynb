{
 "cells": [
  {
   "cell_type": "markdown",
   "metadata": {},
   "source": [
    "# Python If-Statements.\n",
    "It is used to execute a block of code only when a specific condition is met.\n",
    "\n",
    "> _Python uses indentation at the beginning of a line to define the scope of the code._"
   ]
  },
  {
   "cell_type": "code",
   "execution_count": 4,
   "metadata": {},
   "outputs": [
    {
     "name": "stdout",
     "output_type": "stream",
     "text": [
      "a and b are equal\n"
     ]
    }
   ],
   "source": [
    "a = 25\n",
    "b = 25\n",
    "if b > a:\n",
    "  print(\"b is greater than a\")\n",
    "elif a == b:\n",
    "  print(\"a and b are equal\")\n",
    "else:\n",
    "  print(\"a is greater than b\")"
   ]
  },
  {
   "cell_type": "markdown",
   "metadata": {},
   "source": [
    "### _Ternary Operators._"
   ]
  },
  {
   "cell_type": "code",
   "execution_count": 8,
   "metadata": {},
   "outputs": [
    {
     "name": "stdout",
     "output_type": "stream",
     "text": [
      "=\n"
     ]
    }
   ],
   "source": [
    "a = 25\n",
    "b = 25\n",
    "print(\"A\") if a > b else print(\"=\") if a == b else print(\"B\")\n",
    "#Summarising the if-else loop in one line."
   ]
  },
  {
   "cell_type": "markdown",
   "metadata": {},
   "source": [
    "### _'And' Keyword._"
   ]
  },
  {
   "cell_type": "code",
   "execution_count": 10,
   "metadata": {},
   "outputs": [
    {
     "name": "stdout",
     "output_type": "stream",
     "text": [
      "Both conditions are True\n"
     ]
    }
   ],
   "source": [
    "a = 25\n",
    "b = 15\n",
    "c = 50\n",
    "if a > b and c > a: #'and' returns 'True' only if both conditions are satisfied.\n",
    "  print(\"Both conditions are True\")"
   ]
  },
  {
   "cell_type": "markdown",
   "metadata": {},
   "source": [
    "### _'Or' Keyword._"
   ]
  },
  {
   "cell_type": "code",
   "execution_count": 12,
   "metadata": {},
   "outputs": [
    {
     "name": "stdout",
     "output_type": "stream",
     "text": [
      "At least one of the conditions is True\n"
     ]
    }
   ],
   "source": [
    "a = 25\n",
    "b = 15\n",
    "c = 10\n",
    "if a > b or a > c: #'or' returns 'True' if any of the conditions is satsfied.\n",
    "  print(\"At least one of the conditions is True\")"
   ]
  },
  {
   "cell_type": "markdown",
   "metadata": {},
   "source": [
    "### _Nested If-Statements._\n",
    "We can have If-statements inside If-statements, this is called nested if statements."
   ]
  },
  {
   "cell_type": "code",
   "execution_count": 13,
   "metadata": {},
   "outputs": [
    {
     "name": "stdout",
     "output_type": "stream",
     "text": [
      "Above ten,\n",
      "and also above 20!\n"
     ]
    }
   ],
   "source": [
    "x = 25\n",
    "if x > 10:\n",
    "  print(\"Above ten,\")\n",
    "   \n",
    "  if x > 20:\n",
    "    print(\"and also above 20!\")\n",
    "  else:\n",
    "    print(\"but not above 20.\")"
   ]
  },
  {
   "cell_type": "code",
   "execution_count": 15,
   "metadata": {},
   "outputs": [
    {
     "name": "stdout",
     "output_type": "stream",
     "text": [
      "2024 is a leap year.\n"
     ]
    }
   ],
   "source": [
    "# Python Program to check if the given year is a leap year or not\n",
    "\n",
    "# Inputting the year\n",
    "year = int(input(\"Enter any year: \"))\n",
    "\n",
    "if year % 4 == 0:    # if the year is divisible by 4\n",
    "    if year % 100 == 0:    # if the year is divisible by 100\n",
    "        if year % 400 == 0:    # if the year is divisible by 400\n",
    "            print(f\"{year} is a leap year.\")\n",
    "        else:    # if the year is divisible by 100 but not 400\n",
    "            print(f\"{year} is not a leap year.\")\n",
    "    else:    # if the year is divisible by 4 but not 100\n",
    "        print(f\"{year} is a leap year.\")\n",
    "else:    # if the year is not divisible by 4   \n",
    "    print(f\"{year} is not a leap year.\")"
   ]
  }
 ],
 "metadata": {
  "kernelspec": {
   "display_name": "Python 3",
   "language": "python",
   "name": "python3"
  },
  "language_info": {
   "codemirror_mode": {
    "name": "ipython",
    "version": 3
   },
   "file_extension": ".py",
   "mimetype": "text/x-python",
   "name": "python",
   "nbconvert_exporter": "python",
   "pygments_lexer": "ipython3",
   "version": "3.10.12"
  }
 },
 "nbformat": 4,
 "nbformat_minor": 2
}
