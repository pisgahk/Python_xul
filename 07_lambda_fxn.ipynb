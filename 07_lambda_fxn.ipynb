{
 "cells": [
  {
   "cell_type": "markdown",
   "metadata": {},
   "source": [
    "# Lambda Function\n",
    "Lambda function is an anonymous function defined without a name and without using `def` keyword.\n",
    "It can be any number of arguments but can only have one expression."
   ]
  },
  {
   "cell_type": "code",
   "execution_count": 24,
   "metadata": {},
   "outputs": [
    {
     "data": {
      "text/plain": [
       "6"
      ]
     },
     "execution_count": 24,
     "metadata": {},
     "output_type": "execute_result"
    }
   ],
   "source": [
    "#comparison 101\n",
    "def add(a,b): #Using the regular define function method.\n",
    "    return a + b\n",
    "add(3,3)"
   ]
  },
  {
   "cell_type": "code",
   "execution_count": 34,
   "metadata": {},
   "outputs": [
    {
     "name": "stdout",
     "output_type": "stream",
     "text": [
      "6\n",
      "10\n",
      "72\n"
     ]
    }
   ],
   "source": [
    "#comparison 101\n",
    "add = lambda a,b: (a + b)   #using the lanbda function to do the same thing as above.👆\n",
    "print(add(3,3))\n",
    "\n",
    "adding = lambda num: num + 4  #Adding 4 to a number using lambda function.\n",
    "print(adding(6))\n",
    "\n",
    "mul = lambda a,b: (a * b) #Multiplying two numbers using lambda function.\n",
    "print(mul(9, 8))"
   ]
  },
  {
   "cell_type": "code",
   "execution_count": 38,
   "metadata": {},
   "outputs": [
    {
     "name": "stdout",
     "output_type": "stream",
     "text": [
      "8\n"
     ]
    }
   ],
   "source": [
    "max_val = lambda a,b: a if (a > b) else b #using the if-else function in the lambda function.\n",
    "print(max_val(4,8))"
   ]
  },
  {
   "cell_type": "code",
   "execution_count": 51,
   "metadata": {},
   "outputs": [
    {
     "name": "stdout",
     "output_type": "stream",
     "text": [
      "[3, 16, 9]\n"
     ]
    }
   ],
   "source": [
    "my_list = [[2, 3, 4], [1, 4, 16, 64], [3, 6, 9, 12]] # using lambda function to print the second largest number from each sublilst in the list.\n",
    "\n",
    "sort_list = lambda x: [sorted(i) for i in x]\n",
    "second_largest = lambda x, f: [y[-2] for y in f(x)]\n",
    "\n",
    "print(second_largest(my_list, sort_list))"
   ]
  },
  {
   "cell_type": "code",
   "execution_count": 52,
   "metadata": {},
   "outputs": [
    {
     "name": "stdout",
     "output_type": "stream",
     "text": [
      "100\n"
     ]
    }
   ],
   "source": [
    "addition = lambda *args: sum(args) #Using lambda with *args\n",
    "print(addition(20, 30, 40, 10))"
   ]
  },
  {
   "cell_type": "code",
   "execution_count": 55,
   "metadata": {},
   "outputs": [
    {
     "name": "stdout",
     "output_type": "stream",
     "text": [
      "420\n"
     ]
    }
   ],
   "source": [
    "high_order_fxn = lambda x, func: x + func(x)\n",
    "print(high_order_fxn(20, lambda x: x*x))"
   ]
  },
  {
   "cell_type": "markdown",
   "metadata": {},
   "source": [
    "### _Lambda function with `filter()`_\n",
    "It filters out all the elements of the sequence for which the function returns `True`."
   ]
  },
  {
   "cell_type": "code",
   "execution_count": 1,
   "metadata": {},
   "outputs": [
    {
     "name": "stdout",
     "output_type": "stream",
     "text": [
      "[45, 46, 70]\n"
     ]
    }
   ],
   "source": [
    "#filtering a list of numbers greater than 40\n",
    "\n",
    "num = [45,27,35,40,46,70]\n",
    "greater = list (filter(lambda num : num > 40 , num))\n",
    "print(greater)"
   ]
  },
  {
   "cell_type": "code",
   "execution_count": 2,
   "metadata": {},
   "outputs": [
    {
     "name": "stdout",
     "output_type": "stream",
     "text": [
      "['level', 'noon', 'aa']\n"
     ]
    }
   ],
   "source": [
    "#python program to find palindromes in a list of strings.\n",
    "my_list = [\"level\", \"class\", \"noon\", \"moon\", \"aa\", \"abab\"]\n",
    "result = list(filter(lambda x: (x == \"\".join(reversed(x))), my_list))\n",
    "print(result)"
   ]
  },
  {
   "cell_type": "code",
   "execution_count": 3,
   "metadata": {},
   "outputs": [
    {
     "name": "stdout",
     "output_type": "stream",
     "text": [
      "['tea', 'ate']\n"
     ]
    }
   ],
   "source": [
    "#python program to find all anagrams of str in a list of strings.\n",
    "from collections import Counter  #Counter is used for counting occurances of elements.\n",
    "\n",
    "\n",
    "my_list = [\"tea\", \"coffee\", \"cake\", \"ate\", \"tee\"]\n",
    "str = \"eat\"\n",
    "result = list(filter(lambda x: (Counter(str) == Counter(x)), my_list))\n",
    "print(result)"
   ]
  },
  {
   "cell_type": "markdown",
   "metadata": {},
   "source": [
    "### _Lambda function with `map()`_\n",
    "A new list is returned which contains all the lambda-modified items returned by that function for each item."
   ]
  },
  {
   "cell_type": "code",
   "execution_count": 4,
   "metadata": {},
   "outputs": [
    {
     "name": "stdout",
     "output_type": "stream",
     "text": [
      "[2, 4, 6, 8, 10, 12]\n"
     ]
    }
   ],
   "source": [
    "numbers = [1,2,3,4,5,6]\n",
    "doubles = list(map(lambda x: x * 2, numbers))\n",
    "print(doubles)"
   ]
  },
  {
   "cell_type": "code",
   "execution_count": 5,
   "metadata": {},
   "outputs": [
    {
     "name": "stdout",
     "output_type": "stream",
     "text": [
      "['DOG', 'CAT', 'PARROT', 'RABBIT']\n"
     ]
    }
   ],
   "source": [
    "# .upper() makes 'em all UPPERCASE, .title() makes the First Character Caps.\n",
    "animals = [\"dog\", \"cat\", \"parrot\", \"rabbit\"]\n",
    "uppered_animals = list(map(lambda animal: animal.upper(), animals))\n",
    "print(uppered_animals)"
   ]
  }
 ],
 "metadata": {
  "kernelspec": {
   "display_name": "Python 3",
   "language": "python",
   "name": "python3"
  },
  "language_info": {
   "codemirror_mode": {
    "name": "ipython",
    "version": 3
   },
   "file_extension": ".py",
   "mimetype": "text/x-python",
   "name": "python",
   "nbconvert_exporter": "python",
   "pygments_lexer": "ipython3",
   "version": "3.12.2"
  }
 },
 "nbformat": 4,
 "nbformat_minor": 2
}
