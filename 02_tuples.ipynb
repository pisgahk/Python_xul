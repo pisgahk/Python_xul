{
 "cells": [
  {
   "cell_type": "markdown",
   "metadata": {},
   "source": [
    "# Tuples\n",
    "Tuples are used to store multiple items in a single variable, they are immutable(unchangeable). But there is a workaround, you can convert the tuple to a list, change the list then convert it back to a tuple."
   ]
  },
  {
   "cell_type": "code",
   "execution_count": null,
   "metadata": {},
   "outputs": [],
   "source": []
  },
  {
   "cell_type": "code",
   "execution_count": 1,
   "metadata": {},
   "outputs": [
    {
     "name": "stdout",
     "output_type": "stream",
     "text": [
      "('apple', 'kiwi', 'watermelon')\n"
     ]
    }
   ],
   "source": [
    "x = (\"apple\", \"orange\", \"watermelon\")\n",
    "y = list(x)  #Converting the tuple to a list.\n",
    "y[1] = \"kiwi\"\n",
    "x = tuple(y) #Then converting it back to a tuple.\n",
    "print(x)"
   ]
  },
  {
   "cell_type": "code",
   "execution_count": 2,
   "metadata": {},
   "outputs": [
    {
     "name": "stdout",
     "output_type": "stream",
     "text": [
      "('apple', 'banana', 'cherry', 'orange')\n"
     ]
    }
   ],
   "source": [
    "#Adding a tuple to a tuple.\n",
    "this_tuple = (\"apple\", \"banana\", \"cherry\")\n",
    "y = (\"orange\")\n",
    "this_tuple += (y, )\n",
    "print(this_tuple)"
   ]
  },
  {
   "cell_type": "code",
   "execution_count": null,
   "metadata": {},
   "outputs": [],
   "source": []
  }
 ],
 "metadata": {
  "kernelspec": {
   "display_name": ".venv",
   "language": "python",
   "name": "python3"
  },
  "language_info": {
   "codemirror_mode": {
    "name": "ipython",
    "version": 3
   },
   "file_extension": ".py",
   "mimetype": "text/x-python",
   "name": "python",
   "nbconvert_exporter": "python",
   "pygments_lexer": "ipython3",
   "version": "3.10.12"
  }
 },
 "nbformat": 4,
 "nbformat_minor": 2
}
