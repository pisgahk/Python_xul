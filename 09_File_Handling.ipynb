{
 "cells": [
  {
   "cell_type": "markdown",
   "metadata": {},
   "source": [
    "# File Handling\n",
    "File handling is an important part of any web application.\n",
    "Python has several functions for creating, reading, updating, and deleting files.\n",
    "There are fout methods for opening a file:\n",
    "1. \"r\" -> Read -> Default value. Opens file for reading, error if the file does not exist.\n",
    "2. \"a\" -> Append -> Opens a file for appending, creates the file if it does not exist.\n",
    "3. \"w\" -> Write -> Opens a file for writing, creates the file if it does not exist.\n",
    "4. \"x\" -> Create -> Creates the specified file, returns an error if the file exists."
   ]
  },
  {
   "cell_type": "code",
   "execution_count": 1,
   "metadata": {},
   "outputs": [
    {
     "name": "stdout",
     "output_type": "stream",
     "text": [
      "This is presumably the thing that I need to add here to make this compile.\n",
      "\n"
     ]
    },
    {
     "data": {
      "text/plain": [
       "'# To open a file, we can use the .open() method.\\n# Then, we read its contents using the .read() method.\\n\\n# Corrected Python code:\\ntry:\\n    # Open the file in read mode\\n    with open(\"example.txt\", \"r\") as file1:\\n        contents = file1.read()\\n        print(contents)\\nexcept FileNotFoundError:\\n    print(\"File not found. Please make sure \\'example.txt\\' exists.\")\\nexcept Exception as e:\\n    print(f\"Error reading file: {e}\")\\n'"
      ]
     },
     "execution_count": 1,
     "metadata": {},
     "output_type": "execute_result"
    }
   ],
   "source": [
    "# To open a file, we can use the .open() method.\n",
    "file1 = open(\"testing.txt\", \"r\")  # Corrected line\n",
    "contents = file1.read()\n",
    "print(contents)\n",
    "\n",
    "#OR\n",
    "\n",
    "'''# To open a file, we can use the .open() method.\n",
    "# Then, we read its contents using the .read() method.\n",
    "\n",
    "# Corrected Python code:\n",
    "try:\n",
    "    # Open the file in read mode\n",
    "    with open(\"example.txt\", \"r\") as file1:\n",
    "        contents = file1.read()\n",
    "        print(contents)\n",
    "except FileNotFoundError:\n",
    "    print(\"File not found. Please make sure 'example.txt' exists.\")\n",
    "except Exception as e:\n",
    "    print(f\"Error reading file: {e}\")\n",
    "'''\n"
   ]
  },
  {
   "cell_type": "code",
   "execution_count": 2,
   "metadata": {},
   "outputs": [
    {
     "ename": "FileNotFoundError",
     "evalue": "[Errno 2] No such file or directory: 'D:\\\\development\\\\Python\\\\example.txt'",
     "output_type": "error",
     "traceback": [
      "\u001b[0;31m---------------------------------------------------------------------------\u001b[0m",
      "\u001b[0;31mFileNotFoundError\u001b[0m                         Traceback (most recent call last)",
      "Cell \u001b[0;32mIn[2], line 6\u001b[0m\n\u001b[1;32m      1\u001b[0m \u001b[38;5;66;03m#If the file is located in a specific dir.\u001b[39;00m\n\u001b[1;32m      2\u001b[0m \u001b[38;5;66;03m#file1 = r\"\\D:\\development\\Python\\testing.txt\"\u001b[39;00m\n\u001b[1;32m      3\u001b[0m \u001b[38;5;66;03m# r is used for row string literal.\u001b[39;00m\n\u001b[1;32m      4\u001b[0m \u001b[38;5;66;03m#else error will occur due to backslash.\u001b[39;00m\n\u001b[1;32m      5\u001b[0m \u001b[38;5;66;03m#Open the file in read mode.\u001b[39;00m\n\u001b[0;32m----> 6\u001b[0m \u001b[38;5;28;01mwith\u001b[39;00m \u001b[38;5;28;43mopen\u001b[39;49m\u001b[43m(\u001b[49m\u001b[38;5;124;43m\"\u001b[39;49m\u001b[38;5;124;43mD:\u001b[39;49m\u001b[38;5;124;43m\\\u001b[39;49m\u001b[38;5;124;43mdevelopment\u001b[39;49m\u001b[38;5;124;43m\\\u001b[39;49m\u001b[38;5;124;43mPython\u001b[39;49m\u001b[38;5;124;43m\\\u001b[39;49m\u001b[38;5;124;43mexample.txt\u001b[39;49m\u001b[38;5;124;43m\"\u001b[39;49m\u001b[43m,\u001b[49m\u001b[43m \u001b[49m\u001b[38;5;124;43m\"\u001b[39;49m\u001b[38;5;124;43mr\u001b[39;49m\u001b[38;5;124;43m\"\u001b[39;49m\u001b[43m)\u001b[49m \u001b[38;5;28;01mas\u001b[39;00m file:\n\u001b[1;32m      7\u001b[0m     \u001b[38;5;66;03m#read the contents of the file.\u001b[39;00m\n\u001b[1;32m      8\u001b[0m     contents \u001b[38;5;241m=\u001b[39m file\u001b[38;5;241m.\u001b[39mread()\n\u001b[1;32m      9\u001b[0m     \u001b[38;5;28mprint\u001b[39m(\u001b[38;5;124m\"\u001b[39m\u001b[38;5;124mFile contents: \u001b[39m\u001b[38;5;124m\"\u001b[39m)\n",
      "File \u001b[0;32m~/.local/lib/python3.10/site-packages/IPython/core/interactiveshell.py:324\u001b[0m, in \u001b[0;36m_modified_open\u001b[0;34m(file, *args, **kwargs)\u001b[0m\n\u001b[1;32m    317\u001b[0m \u001b[38;5;28;01mif\u001b[39;00m file \u001b[38;5;129;01min\u001b[39;00m {\u001b[38;5;241m0\u001b[39m, \u001b[38;5;241m1\u001b[39m, \u001b[38;5;241m2\u001b[39m}:\n\u001b[1;32m    318\u001b[0m     \u001b[38;5;28;01mraise\u001b[39;00m \u001b[38;5;167;01mValueError\u001b[39;00m(\n\u001b[1;32m    319\u001b[0m         \u001b[38;5;124mf\u001b[39m\u001b[38;5;124m\"\u001b[39m\u001b[38;5;124mIPython won\u001b[39m\u001b[38;5;124m'\u001b[39m\u001b[38;5;124mt let you open fd=\u001b[39m\u001b[38;5;132;01m{\u001b[39;00mfile\u001b[38;5;132;01m}\u001b[39;00m\u001b[38;5;124m by default \u001b[39m\u001b[38;5;124m\"\u001b[39m\n\u001b[1;32m    320\u001b[0m         \u001b[38;5;124m\"\u001b[39m\u001b[38;5;124mas it is likely to crash IPython. If you know what you are doing, \u001b[39m\u001b[38;5;124m\"\u001b[39m\n\u001b[1;32m    321\u001b[0m         \u001b[38;5;124m\"\u001b[39m\u001b[38;5;124myou can use builtins\u001b[39m\u001b[38;5;124m'\u001b[39m\u001b[38;5;124m open.\u001b[39m\u001b[38;5;124m\"\u001b[39m\n\u001b[1;32m    322\u001b[0m     )\n\u001b[0;32m--> 324\u001b[0m \u001b[38;5;28;01mreturn\u001b[39;00m \u001b[43mio_open\u001b[49m\u001b[43m(\u001b[49m\u001b[43mfile\u001b[49m\u001b[43m,\u001b[49m\u001b[43m \u001b[49m\u001b[38;5;241;43m*\u001b[39;49m\u001b[43margs\u001b[49m\u001b[43m,\u001b[49m\u001b[43m \u001b[49m\u001b[38;5;241;43m*\u001b[39;49m\u001b[38;5;241;43m*\u001b[39;49m\u001b[43mkwargs\u001b[49m\u001b[43m)\u001b[49m\n",
      "\u001b[0;31mFileNotFoundError\u001b[0m: [Errno 2] No such file or directory: 'D:\\\\development\\\\Python\\\\example.txt'"
     ]
    }
   ],
   "source": [
    "#If the file is located in a specific dir.\n",
    "#file1 = r\"\\D:\\development\\Python\\testing.txt\"\n",
    "# r is used for row string literal.\n",
    "#else error will occur due to backslash.\n",
    "#Open the file in read mode.\n",
    "with open(\"D:\\development\\Python\\example.txt\", \"r\") as file:\n",
    "    #read the contents of the file.\n",
    "    contents = file.read()\n",
    "    print(\"File contents: \")\n",
    "    print(contents)"
   ]
  },
  {
   "cell_type": "code",
   "execution_count": null,
   "metadata": {},
   "outputs": [],
   "source": [
    "#With try and except \n",
    "#Open a .txt file in python.\n",
    "file_path = r\"C:\\Users\\syed\\OneDrive\\Documents\\example.txt\"\n",
    "try:\n",
    "    with open(file_path, \"r\") as file:\n",
    "        #perform operations on the file.\n",
    "        contents = file.read()\n",
    "        print(\"File contents: \")\n",
    "        print(contents)\n",
    "except FileNotFoundError:\n",
    "    print(\"File not found, please check the file path.sdjfga.ukdfykaudfkdfkf\")\n",
    "except IOError:\n",
    "    print(\"Error in reading the file. Please check file permissions or file integrity.\")"
   ]
  },
  {
   "cell_type": "code",
   "execution_count": null,
   "metadata": {},
   "outputs": [],
   "source": [
    "try:\n",
    "    with open(file_path, \"r\") as file:\n",
    "        #perform operations on the file.\n",
    "        contents = file.read()\n",
    "        print(\"File contents: \")\n",
    "        print(contents)\n",
    "\n",
    "except FileNotFoundError:\n",
    "    print(\"File not found. Please check the file path.\")\n",
    "except IOError:\n",
    "    print(\"Error reading the file. Please check the file permissions or file integrity.\")\n",
    "except Exception as e:\n",
    "    print(\"An unexpected error occurred:\", e)\n"
   ]
  },
  {
   "cell_type": "code",
   "execution_count": null,
   "metadata": {},
   "outputs": [],
   "source": [
    "#To check the current dir in the jupyter notebook.\n",
    "import os\n",
    "print(os.getcwd())"
   ]
  },
  {
   "cell_type": "code",
   "execution_count": null,
   "metadata": {},
   "outputs": [],
   "source": [
    "#To create a new file in a specific location.\n",
    "\n",
    "file_path = r\"C:\\Users\\Syed\\Documents\\example.txt\"\n",
    "\n",
    "#Creates or open the file in write mode.\n",
    "with open (file_path,'w') as file: \n",
    "    file.write(\"this is a sample text file created using python\")\n",
    "    #You can add addition of content to the file if needed\n",
    "    #file.write(\"additional content goes here\")\n",
    "\n",
    "print(\"file'sample.txt'created successfully at :\",file_path)"
   ]
  },
  {
   "cell_type": "markdown",
   "metadata": {},
   "source": [
    "### _Read only part of this file_"
   ]
  },
  {
   "cell_type": "code",
   "execution_count": null,
   "metadata": {},
   "outputs": [
    {
     "name": "stdout",
     "output_type": "stream",
     "text": [
      "This \n"
     ]
    }
   ],
   "source": [
    "file1 = open(\"example.txt\")\n",
    "contents = file1.read(5)\n",
    "print(contents)  "
   ]
  },
  {
   "cell_type": "code",
   "execution_count": null,
   "metadata": {},
   "outputs": [],
   "source": [
    "#read line by using the readline() method\n",
    "file1 = open (\"example.txt\")\n",
    "contents = file1.readline()\n",
    "print(contents)"
   ]
  },
  {
   "cell_type": "code",
   "execution_count": null,
   "metadata": {},
   "outputs": [],
   "source": [
    "file1 = open (\"example.txt\")\n",
    "contents = file1.readline()\n",
    "print(contents)\n",
    "file1.close()  #.close() closes the file."
   ]
  },
  {
   "cell_type": "code",
   "execution_count": null,
   "metadata": {},
   "outputs": [
    {
     "name": "stdout",
     "output_type": "stream",
     "text": [
      "I believe that there is to be a certain level of joy in this level of coding.\n",
      "This line is appended to the file using the 'w'. \n",
      "File closed successfully\n"
     ]
    }
   ],
   "source": [
    "#using try-except to check whether the file is closed.\n",
    "file1 = open(\"example.txt\")\n",
    "contents = file1.read()\n",
    "print(contents)\n",
    "\n",
    "try:\n",
    "    file1.close()\n",
    "    print(\"File closed successfully\")\n",
    "except:\n",
    "    print(\"Error occured while closing the file.\")"
   ]
  },
  {
   "cell_type": "markdown",
   "metadata": {},
   "source": [
    "### _Writing to an existing file._"
   ]
  },
  {
   "cell_type": "code",
   "execution_count": null,
   "metadata": {},
   "outputs": [],
   "source": [
    "with open(\"example.txt\", \"a\") as file1: #open the file in append mode.\n",
    "    file1.write(\"\\nThis line is appended to the file using the 'a'. \") #writing content to the file."
   ]
  },
  {
   "cell_type": "code",
   "execution_count": null,
   "metadata": {},
   "outputs": [],
   "source": [
    "with open(\"example.txt\", \"w\") as file1: #opening the file in write mode. The existing contents will be overwritten.\n",
    "    file1.write(\"\\nThis line is appended to the file using the 'w'. \") #Writing content to the file."
   ]
  },
  {
   "cell_type": "code",
   "execution_count": null,
   "metadata": {},
   "outputs": [],
   "source": [
    "import os\n",
    "os.remove(\"demofile.txt\")"
   ]
  },
  {
   "cell_type": "code",
   "execution_count": 4,
   "metadata": {},
   "outputs": [
    {
     "name": "stdout",
     "output_type": "stream",
     "text": [
      "This block is always executed.\n"
     ]
    },
    {
     "ename": "ZeroDivisionError",
     "evalue": "division by zero",
     "output_type": "error",
     "traceback": [
      "\u001b[0;31m---------------------------------------------------------------------------\u001b[0m",
      "\u001b[0;31mZeroDivisionError\u001b[0m                         Traceback (most recent call last)",
      "Cell \u001b[0;32mIn[4], line 3\u001b[0m\n\u001b[1;32m      1\u001b[0m \u001b[38;5;66;03m#Example\u001b[39;00m\n\u001b[1;32m      2\u001b[0m \u001b[38;5;28;01mtry\u001b[39;00m:\n\u001b[0;32m----> 3\u001b[0m     result \u001b[38;5;241m=\u001b[39m \u001b[38;5;241;43m10\u001b[39;49m\u001b[43m \u001b[49m\u001b[38;5;241;43m/\u001b[39;49m\u001b[43m \u001b[49m\u001b[38;5;241;43m0\u001b[39;49m\n\u001b[1;32m      4\u001b[0m \u001b[38;5;28;01mexcept\u001b[39;00m \u001b[38;5;167;01mValueError\u001b[39;00m \u001b[38;5;28;01mas\u001b[39;00m e:\n\u001b[1;32m      5\u001b[0m     \u001b[38;5;28mprint\u001b[39m(e)\n",
      "\u001b[0;31mZeroDivisionError\u001b[0m: division by zero"
     ]
    }
   ],
   "source": [
    "#Example\n",
    "try:\n",
    "    result = 10 / 0\n",
    "except ValueError as e:\n",
    "    print(e)\n",
    "else:\n",
    "    print(\"Result: \", result)\n",
    "finally:\n",
    "    print(\"This block is always executed.\")"
   ]
  }
 ],
 "metadata": {
  "kernelspec": {
   "display_name": ".venv",
   "language": "python",
   "name": "python3"
  },
  "language_info": {
   "codemirror_mode": {
    "name": "ipython",
    "version": 3
   },
   "file_extension": ".py",
   "mimetype": "text/x-python",
   "name": "python",
   "nbconvert_exporter": "python",
   "pygments_lexer": "ipython3",
   "version": "3.10.12"
  }
 },
 "nbformat": 4,
 "nbformat_minor": 2
}
