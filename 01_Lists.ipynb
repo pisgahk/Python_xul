{
 "cells": [
  {
   "cell_type": "markdown",
   "metadata": {},
   "source": [
    "# Lists.\n",
    "List items are ordered, changeable and allow duplicate values.\n",
    "\n",
    "List items are indexed."
   ]
  },
  {
   "cell_type": "code",
   "execution_count": 1,
   "metadata": {},
   "outputs": [
    {
     "name": "stdout",
     "output_type": "stream",
     "text": [
      "['cat', True, 40]\n",
      "3\n"
     ]
    }
   ],
   "source": [
    "my_list = [\"cat\",True , 40]\n",
    "print(my_list)\n",
    "print(len(my_list))"
   ]
  },
  {
   "cell_type": "code",
   "execution_count": 2,
   "metadata": {},
   "outputs": [
    {
     "name": "stdout",
     "output_type": "stream",
     "text": [
      "Yes, 'apple' is in the fruit list\n"
     ]
    }
   ],
   "source": [
    "#check if item exists\n",
    "the_list = [\"apple\", \"banana\", \"cherry\"]\n",
    "if \"apple\" in the_list:\n",
    "    print(\"Yes, 'apple' is in the fruit list\")"
   ]
  },
  {
   "cell_type": "code",
   "execution_count": 3,
   "metadata": {},
   "outputs": [
    {
     "name": "stdout",
     "output_type": "stream",
     "text": [
      "['apple', 'orange', 'guava', 'guava']\n"
     ]
    }
   ],
   "source": [
    "#Change the item in the list.\n",
    "my_list = [\"apple\", \"kiwi\", \"mango\"]\n",
    "my_list[1] = \"orange\"\n",
    "my_list[2] = \"guava\"\n",
    "my_list[1:2] = \"orange\", \"guava\"\n",
    "print(my_list)"
   ]
  },
  {
   "cell_type": "code",
   "execution_count": 4,
   "metadata": {},
   "outputs": [
    {
     "name": "stdout",
     "output_type": "stream",
     "text": [
      "['apple', 'banana', 'watermelon', 'cherry']\n"
     ]
    }
   ],
   "source": [
    "#insert items\n",
    "my_list = [\"apple\", \"banana\", \"cherry\"]\n",
    "my_list.insert(2, \"watermelon\") # .insert() method adds a value in the specified position.\n",
    "print(my_list)"
   ]
  },
  {
   "cell_type": "code",
   "execution_count": 5,
   "metadata": {},
   "outputs": [
    {
     "name": "stdout",
     "output_type": "stream",
     "text": [
      "['apple', 'banana', 'cherry', 'orange']\n"
     ]
    }
   ],
   "source": [
    "#append items\n",
    "my_list = [\"apple\", \"banana\", \"cherry\"]\n",
    "my_list.append(\"orange\")\n",
    "print(my_list)"
   ]
  },
  {
   "cell_type": "code",
   "execution_count": 6,
   "metadata": {},
   "outputs": [
    {
     "name": "stdout",
     "output_type": "stream",
     "text": [
      "['apple', 'banana', 'cherry', 'mango', 'pineapple', 'pawpaw']\n"
     ]
    }
   ],
   "source": [
    "#extend lists\n",
    "list_1 = [\"apple\", \"banana\", \"cherry\"]\n",
    "list_2 = [\"mango\", \"pineapple\", \"pawpaw\"]\n",
    "\n",
    "list_1.extend(list_2) #simply adding a list to another list\n",
    "print(my_list)"
   ]
  },
  {
   "cell_type": "code",
   "execution_count": 7,
   "metadata": {},
   "outputs": [
    {
     "name": "stdout",
     "output_type": "stream",
     "text": [
      "['apple', 'banana', 'cherry', 'kiwi', 'orange']\n"
     ]
    }
   ],
   "source": [
    "#add any iterable\n",
    "my_list = [\"apple\", \"banana\", \"cherry\"]\n",
    "tuple_1 = (\"kiwi\", \"orange\")\n",
    "my_list.extend(tuple_1) #simply adding a tuple to a list. Basically, you can add any iterable to a list using the .extend() method\n",
    "print(my_list)"
   ]
  },
  {
   "cell_type": "code",
   "execution_count": 8,
   "metadata": {},
   "outputs": [
    {
     "name": "stdout",
     "output_type": "stream",
     "text": [
      "['apple', 'cherry']\n"
     ]
    }
   ],
   "source": [
    "#removing a specified item\n",
    "my_list = [\"apple\", \"banana\", \"cherry\"] \n",
    "my_list.remove(\"banana\") # .remove() removes a specified item from the list\n",
    "print(my_list)"
   ]
  },
  {
   "cell_type": "code",
   "execution_count": 9,
   "metadata": {},
   "outputs": [
    {
     "name": "stdout",
     "output_type": "stream",
     "text": [
      "['apple', 'cherry']\n"
     ]
    }
   ],
   "source": [
    "my_list = [\"apple\", \"banana\", \"cherry\"]\n",
    "my_list.pop(1) #if you do not specify the index, it removes the last item.\n",
    "print(my_list)"
   ]
  },
  {
   "cell_type": "code",
   "execution_count": 10,
   "metadata": {},
   "outputs": [
    {
     "name": "stdout",
     "output_type": "stream",
     "text": [
      "[]\n"
     ]
    }
   ],
   "source": [
    "my_list = [\"apple\", \"banana\", \"cherry\"]\n",
    "my_list.clear()\n",
    "print(my_list)"
   ]
  },
  {
   "cell_type": "code",
   "execution_count": 1,
   "metadata": {},
   "outputs": [
    {
     "data": {
      "text/plain": [
       "['cherry', 'banana', 'apple']"
      ]
     },
     "execution_count": 1,
     "metadata": {},
     "output_type": "execute_result"
    }
   ],
   "source": [
    "my_list = [\"apple\", \"banana\", \"cherry\"]\n",
    "my_list.reverse()\n",
    "my_list"
   ]
  },
  {
   "cell_type": "markdown",
   "metadata": {},
   "source": [
    "### _List Comprehension_"
   ]
  },
  {
   "cell_type": "code",
   "execution_count": 11,
   "metadata": {},
   "outputs": [
    {
     "name": "stdout",
     "output_type": "stream",
     "text": [
      "['apple', 'banana', 'mango']\n"
     ]
    }
   ],
   "source": [
    "fruits = [\"apple\", \"banana\", \"cherry\", \"kiwi\", \"mango\"]\n",
    "new_list = [x for x in fruits if \"a\" in x]\n",
    "print(new_list)\n",
    "# same thing written using for loop below👇"
   ]
  },
  {
   "cell_type": "code",
   "execution_count": 12,
   "metadata": {},
   "outputs": [
    {
     "name": "stdout",
     "output_type": "stream",
     "text": [
      "['apple', 'banana', 'mango']\n"
     ]
    }
   ],
   "source": [
    "fruits = [\"apple\", \"banana\", \"cherry\", \"kiwi\", \"mango\"]\n",
    "new_list = []\n",
    "\n",
    "for x in fruits:\n",
    "    if \"a\" in x:\n",
    "        new_list.append(x)\n",
    "print(new_list)"
   ]
  },
  {
   "cell_type": "code",
   "execution_count": 13,
   "metadata": {},
   "outputs": [
    {
     "name": "stdout",
     "output_type": "stream",
     "text": [
      "['banana', 'kiwi', 'mango', 'orange', 'pineapple']\n",
      "[23, 50, 65, 100, 223]\n",
      "['Kiwi', 'Orange', 'banana', 'cherry']\n"
     ]
    }
   ],
   "source": [
    "#sorting list alphanumerically\n",
    "this_list = [\"orange\", \"mango\", \"kiwi\", \"pineapple\", \"banana\"]\n",
    "this_num = [100, 50, 65, 23, 223]\n",
    "this_alpha = [\"banana\", \"Orange\", \"Kiwi\", \"cherry\"]\n",
    "\n",
    "this_list.sort() #in reverse '.sort(reverse = True)'\n",
    "this_num.sort()\n",
    "this_alpha.sort() #twill sort the all caps first then the lower cases.\n",
    "\n",
    "print(this_list)\n",
    "print(this_num)\n",
    "print(this_alpha)"
   ]
  },
  {
   "cell_type": "code",
   "execution_count": 14,
   "metadata": {},
   "outputs": [
    {
     "name": "stdout",
     "output_type": "stream",
     "text": [
      "[50, 23, 65, 82, 100]\n"
     ]
    }
   ],
   "source": [
    "#customising the sort function\n",
    "def myfunc(n):\n",
    "    return abs(n-40)\n",
    "\n",
    "this_list = [100, 50, 65, 82, 23]\n",
    "this_list.sort(key = myfunc)\n",
    "print(this_list)"
   ]
  },
  {
   "cell_type": "code",
   "execution_count": 2,
   "metadata": {},
   "outputs": [
    {
     "name": "stdout",
     "output_type": "stream",
     "text": [
      "['cherry', 'Kiwi', 'orange', 'banana']\n"
     ]
    }
   ],
   "source": [
    "#reverse order\n",
    "this_list = [\"banana\", \"orange\", \"Kiwi\", \"cherry\"]\n",
    "this_list.reverse()\n",
    "print(this_list)"
   ]
  },
  {
   "cell_type": "code",
   "execution_count": 4,
   "metadata": {},
   "outputs": [
    {
     "name": "stdout",
     "output_type": "stream",
     "text": [
      "['apple', 'banana', 'cherry']\n"
     ]
    }
   ],
   "source": [
    "#copying a list\n",
    "this_list = [\"apple\", \"banana\", \"cherry\"]\n",
    "my_list = this_list.copy()\n",
    "print(my_list)"
   ]
  },
  {
   "cell_type": "code",
   "execution_count": 2,
   "metadata": {},
   "outputs": [
    {
     "name": "stdout",
     "output_type": "stream",
     "text": [
      "[15, 18, 22]\n"
     ]
    }
   ],
   "source": [
    "my_list = [20,11,15,18,22,17]\n",
    "list = my_list[2:5] #slicing 2, 3, 4\n",
    "print(list)"
   ]
  }
 ],
 "metadata": {
  "kernelspec": {
   "display_name": "Python 3",
   "language": "python",
   "name": "python3"
  },
  "language_info": {
   "codemirror_mode": {
    "name": "ipython",
    "version": 3
   },
   "file_extension": ".py",
   "mimetype": "text/x-python",
   "name": "python",
   "nbconvert_exporter": "python",
   "pygments_lexer": "ipython3",
   "version": "3.10.12"
  }
 },
 "nbformat": 4,
 "nbformat_minor": 2
}
