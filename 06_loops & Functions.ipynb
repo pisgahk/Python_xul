{
 "cells": [
  {
   "cell_type": "markdown",
   "metadata": {},
   "source": [
    "# Loops.\n",
    "1. For Loop.\n",
    "2. While Loop."
   ]
  },
  {
   "cell_type": "markdown",
   "metadata": {},
   "source": [
    "### _For Loop._"
   ]
  },
  {
   "cell_type": "code",
   "execution_count": 15,
   "metadata": {},
   "outputs": [
    {
     "name": "stdout",
     "output_type": "stream",
     "text": [
      "python\n",
      "java\n",
      "sql\n"
     ]
    }
   ],
   "source": [
    "# iterating over list\n",
    "lang = [\"python\", \"java\", \"sql\"]\n",
    "for x in lang:\n",
    "  print(x)"
   ]
  },
  {
   "cell_type": "code",
   "execution_count": 16,
   "metadata": {},
   "outputs": [
    {
     "name": "stdout",
     "output_type": "stream",
     "text": [
      "p\n",
      "y\n",
      "t\n",
      "h\n",
      "o\n",
      "n\n"
     ]
    }
   ],
   "source": [
    "# iterating over string\n",
    "for x in \"python\":\n",
    "  print(x)"
   ]
  },
  {
   "cell_type": "code",
   "execution_count": 17,
   "metadata": {},
   "outputs": [
    {
     "name": "stdout",
     "output_type": "stream",
     "text": [
      "n\n",
      "o\n",
      "h\n",
      "t\n",
      "y\n",
      "p\n"
     ]
    }
   ],
   "source": [
    "# iterating over string in reverse order\n",
    "for x in \"python\"[::-1]:\n",
    "    print(x)"
   ]
  },
  {
   "cell_type": "code",
   "execution_count": 18,
   "metadata": {},
   "outputs": [
    {
     "name": "stdout",
     "output_type": "stream",
     "text": [
      "p\n",
      "y\n",
      "t\n"
     ]
    }
   ],
   "source": [
    "# With the break statement we can stop the loop before it has looped through all the items:\n",
    "for x in \"python\":\n",
    "  print(x)\n",
    "  if x == \"t\":\n",
    "    break"
   ]
  },
  {
   "cell_type": "code",
   "execution_count": 19,
   "metadata": {},
   "outputs": [
    {
     "name": "stdout",
     "output_type": "stream",
     "text": [
      "p\n",
      "y\n",
      "h\n",
      "o\n",
      "n\n"
     ]
    }
   ],
   "source": [
    "# With the continue statement we can stop the current iteration of the loop, and continue with the next:\n",
    "for x in \"python\":\n",
    "  if x == \"t\":\n",
    "    continue\n",
    "  print(x)"
   ]
  },
  {
   "cell_type": "code",
   "execution_count": 20,
   "metadata": {},
   "outputs": [
    {
     "name": "stdout",
     "output_type": "stream",
     "text": [
      "o\n"
     ]
    }
   ],
   "source": [
    "# To print only vowels from a string\n",
    "for x in \"python\":\n",
    "    if x not in \"aeiou\":\n",
    "        continue\n",
    "    print(x)"
   ]
  },
  {
   "cell_type": "markdown",
   "metadata": {},
   "source": [
    "### _While Loop_\n",
    "This is particularly useful when the number of iterations is not predetermined. It repeats a block of code until a certain condition is met."
   ]
  },
  {
   "cell_type": "code",
   "execution_count": 21,
   "metadata": {},
   "outputs": [
    {
     "name": "stdout",
     "output_type": "stream",
     "text": [
      "1\n",
      "2\n",
      "3\n",
      "4\n",
      "5\n"
     ]
    }
   ],
   "source": [
    "number = 1\n",
    "while number <= 5:\n",
    "    print(number)\n",
    "    number += 1"
   ]
  },
  {
   "cell_type": "code",
   "execution_count": 22,
   "metadata": {},
   "outputs": [
    {
     "name": "stdout",
     "output_type": "stream",
     "text": [
      "1\n",
      "2\n",
      "3\n"
     ]
    }
   ],
   "source": [
    "# exits the loop when i=3\n",
    "num = 1\n",
    "while num < 6:\n",
    "  print(num)\n",
    "  if num == 3:\n",
    "    break\n",
    "  num += 1"
   ]
  },
  {
   "cell_type": "code",
   "execution_count": 23,
   "metadata": {},
   "outputs": [
    {
     "name": "stdout",
     "output_type": "stream",
     "text": [
      "1\n",
      "2\n",
      "3\n",
      "4\n",
      "5\n",
      "number is no longer less than 6\n"
     ]
    }
   ],
   "source": [
    "# While loop with else statement\n",
    "# Print a message once the condition is false:\n",
    "number = 1\n",
    "while number < 6:\n",
    "  print(number)\n",
    "  number += 1\n",
    "else:\n",
    "  print(\"number is no longer less than 6\")"
   ]
  },
  {
   "cell_type": "markdown",
   "metadata": {},
   "source": [
    "# Functions.\n",
    "A function is a block of code that performs a specific task.\n",
    "\n",
    "There are two types of functions:\n",
    "- Built-in Functions.\n",
    "- User defined functions."
   ]
  },
  {
   "cell_type": "code",
   "execution_count": 24,
   "metadata": {},
   "outputs": [
    {
     "name": "stdout",
     "output_type": "stream",
     "text": [
      "All The Best\n"
     ]
    }
   ],
   "source": [
    "# Example 1\n",
    "def my_function():\n",
    "  print(\"All The Best\")\n",
    "\n",
    "\n",
    "my_function()"
   ]
  },
  {
   "cell_type": "code",
   "execution_count": 25,
   "metadata": {},
   "outputs": [
    {
     "name": "stdout",
     "output_type": "stream",
     "text": [
      " Mr.Mike\n",
      " Mr.Tony\n",
      " Mr.Lucas\n"
     ]
    }
   ],
   "source": [
    "# Example 2\n",
    "def my_function(fname): # 'fname' is a parameter.\n",
    "  print(\" Mr.\" + fname)\n",
    "\n",
    "\n",
    "my_function(\"Mike\") # 'Mike', 'Tony' and 'Lucas are arguments.\n",
    "my_function(\"Tony\")\n",
    "my_function(\"Lucas\")"
   ]
  },
  {
   "cell_type": "code",
   "execution_count": 26,
   "metadata": {},
   "outputs": [
    {
     "name": "stdout",
     "output_type": "stream",
     "text": [
      "product: 6\n"
     ]
    }
   ],
   "source": [
    "# This function expects 2 arguments, and gets 2 arguments:\n",
    "\n",
    "def multiply(num1,num2):\n",
    "    return num1*num2\n",
    " \n",
    "print(\"product:\", multiply(2,3)) "
   ]
  },
  {
   "cell_type": "code",
   "execution_count": 27,
   "metadata": {},
   "outputs": [
    {
     "name": "stdout",
     "output_type": "stream",
     "text": [
      "product: 362880\n"
     ]
    }
   ],
   "source": [
    "def multiply(*args): #If you are ill-aware if how many arguments will be passed, add '*' before the parameter name in the function definition.\n",
    "    result = 1\n",
    "    for num in args:\n",
    "        result *= num\n",
    "    return result\n",
    "\n",
    "print(\"product:\", multiply(2, 3, 4, 5, 6, 7, 8, 9))"
   ]
  },
  {
   "cell_type": "code",
   "execution_count": 28,
   "metadata": {},
   "outputs": [
    {
     "name": "stdout",
     "output_type": "stream",
     "text": [
      "His last name is Klein.\n"
     ]
    }
   ],
   "source": [
    "# **kwargs(keyword arguments). We use **kwargs in python when we want to pass a variable number of keyword arguments to a function.\n",
    "def my_function(**kid):\n",
    "  print(\"His last name is \" + kid[\"lname\"])\n",
    "\n",
    "my_function(fname = \"Calvin\", lname = \"Klein.\")"
   ]
  }
 ],
 "metadata": {
  "kernelspec": {
   "display_name": "Python 3",
   "language": "python",
   "name": "python3"
  },
  "language_info": {
   "codemirror_mode": {
    "name": "ipython",
    "version": 3
   },
   "file_extension": ".py",
   "mimetype": "text/x-python",
   "name": "python",
   "nbconvert_exporter": "python",
   "pygments_lexer": "ipython3",
   "version": "3.12.2"
  }
 },
 "nbformat": 4,
 "nbformat_minor": 2
}
